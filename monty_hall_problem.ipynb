{
 "cells": [
  {
   "cell_type": "code",
   "execution_count": 5,
   "metadata": {},
   "outputs": [],
   "source": [
    "import numpy as np\n",
    "import matplotlib.pyplot as plt"
   ]
  },
  {
   "cell_type": "code",
   "execution_count": 73,
   "metadata": {},
   "outputs": [],
   "source": [
    "class monty_hall():\n",
    "\n",
    "    # Setting prize = 1 can be thought of as probability\n",
    "    def __init__(self, prize = 1, iterations = 100, switch_door = True):\n",
    "        self.prize = prize\n",
    "        self.iterations = iterations\n",
    "        self.moving_expectation = []\n",
    "        self.switch_door = switch_door\n",
    "\n",
    "    def compute(self, switch_door):\n",
    "        wallet = 0\n",
    "        \n",
    "        for iter_ in range(1, self.iterations+1):\n",
    "            \n",
    "            # 3 doors\n",
    "            doors = np.arange(3)\n",
    "            \n",
    "            # randomly choose door\n",
    "            choice = np.random.randint(0,3)\n",
    "            \n",
    "            # randomly choose correct door\n",
    "            correct_door = np.random.randint(0,3)\n",
    "            \n",
    "            # compute incorrect door\n",
    "            not_correct = doors[np.where(doors!=correct_door)[0]]\n",
    "            \n",
    "            # choose a door to delete that is not the correct door and not the users choice\n",
    "            door_to_delete = not_correct[np.where(not_correct != choice)[0]][0]\n",
    "            \n",
    "            # delete the chosen door\n",
    "            doors = np.delete(doors, np.where(doors == door_to_delete)[0])\n",
    "\n",
    "            # switch doors\n",
    "            if switch_door:\n",
    "                for c in doors:\n",
    "                    if c != choice :\n",
    "                        choice = c\n",
    "                        break\n",
    "            \n",
    "            # if we chose correctly, add the prize to our wallet\n",
    "            if choice == correct_door:\n",
    "                wallet += self.prize\n",
    "\n",
    "            self.moving_expectation.append(wallet/iter_)\n",
    "            \n",
    "            \n",
    "        print(\"Expecting winning over time:\", wallet/self.iterations)\n",
    "        # return the average winnings \n",
    "        return wallet/self.iterations\n",
    "\n",
    "    def visualise(self):\n",
    "        plt.plot(self.moving_expectation)\n",
    "        if self.switch_door:\n",
    "            title = 'Expectation over time when switching doors'\n",
    "        else:\n",
    "            title = 'Expectation over time when not switching doors'\n",
    "        plt.title(title)\n",
    "        plt.xlabel('Iterations')\n",
    "        plt.ylabel('Expectation')\n",
    "        plt.show()\n",
    "        "
   ]
  },
  {
   "cell_type": "code",
   "execution_count": 101,
   "metadata": {},
   "outputs": [
    {
     "name": "stdout",
     "output_type": "stream",
     "text": [
      "Expecting winning over time: 0.6695\n"
     ]
    },
    {
     "data": {
      "image/png": "[encoded data removed]",
      "text/plain": [
       "<Figure size 432x288 with 1 Axes>"
      ]
     },
     "metadata": {},
     "output_type": "display_data"
    }
   ],
   "source": [
    "mh = monty_hall(iterations = 10000)\n",
    "wallet = mh.compute(switch_door = True)\n",
    "mh.visualise()"
   ]
  },
  {
   "cell_type": "code",
   "execution_count": 103,
   "metadata": {},
   "outputs": [
    {
     "name": "stdout",
     "output_type": "stream",
     "text": [
      "Expecting winning over time: 0.3312\n"
     ]
    },
    {
     "data": {
      "image/png": "[encoded data removed]",
      "text/plain": [
       "<Figure size 432x288 with 1 Axes>"
      ]
     },
     "metadata": {},
     "output_type": "display_data"
    }
   ],
   "source": [
    "mh = monty_hall(iterations = 10000)\n",
    "wallet = mh.compute(switch_door = False)\n",
    "mh.visualise()"
   ]
  },
  {
   "cell_type": "code",
   "execution_count": null,
   "metadata": {},
   "outputs": [],
   "source": []
  },
  {
   "cell_type": "code",
   "execution_count": null,
   "metadata": {},
   "outputs": [],
   "source": []
  },
  {
   "cell_type": "code",
   "execution_count": null,
   "metadata": {},
   "outputs": [],
   "source": []
  },
  {
   "cell_type": "code",
   "execution_count": null,
   "metadata": {},
   "outputs": [],
   "source": []
  }
 ],
 "metadata": {
  "kernelspec": {
   "display_name": "Python 3",
   "language": "python",
   "name": "python3"
  },
  "language_info": {
   "codemirror_mode": {
    "name": "ipython",
    "version": 3
   },
   "file_extension": ".py",
   "mimetype": "text/x-python",
   "name": "python",
   "nbconvert_exporter": "python",
   "pygments_lexer": "ipython3",
   "version": "3.6.8"
  }
 },
 "nbformat": 4,
 "nbformat_minor": 2
}
